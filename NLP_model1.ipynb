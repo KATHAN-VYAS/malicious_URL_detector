{
 "cells": [
  {
   "cell_type": "code",
   "execution_count": null,
   "id": "63a87455",
   "metadata": {},
   "outputs": [
    {
     "name": "stdout",
     "output_type": "stream",
     "text": [
      "\u001b[1m1/1\u001b[0m \u001b[32m━━━━━━━━━━━━━━━━━━━━\u001b[0m\u001b[37m\u001b[0m \u001b[1m0s\u001b[0m 62ms/step\n",
      "{'url_has_login': np.int64(0), 'url_has_client': np.int64(0), 'url_has_server': np.int64(0), 'url_has_admin': np.int64(0), 'url_has_ip': np.int64(0), 'url_isshorted': np.int64(0)}\n"
     ]
    }
   ],
   "source": [
    "import numpy as np\n",
    "import joblib\n",
    "from tensorflow.keras.models import load_model\n",
    "\n",
    "# Load trained model and vectorizer\n",
    "model = load_model(r\"E:\\New folder\\project2\\url_feature_model (1).h5\")  \n",
    "vectorizer = joblib.load(r\"E:\\New folder\\project2\\tfidf_vectorizer.pkl\")\n",
    "\n",
    "def predict_url_features(url):\n",
    "    url_vec = vectorizer.transform([url]).toarray()\n",
    "    prediction = model.predict(url_vec)[0]\n",
    "    binary_pred = (prediction >= 0.5).astype(int)\n",
    "\n",
    "    label_names = ['url_has_login', 'url_has_client', 'url_has_server',\n",
    "                   'url_has_admin', 'url_has_ip', 'url_isshorted']\n",
    "    \n",
    "    return dict(zip(label_names, binary_pred))\n",
    "\n",
    "# Example usage\n",
    "test_url = \"login\"\n",
    "result = predict_url_features(test_url)\n",
    "print(result)\n"
   ]
  },
  {
   "cell_type": "code",
   "execution_count": null,
   "id": "20bd47d9",
   "metadata": {},
   "outputs": [],
   "source": []
  }
 ],
 "metadata": {
  "kernelspec": {
   "display_name": "Python 3",
   "language": "python",
   "name": "python3"
  },
  "language_info": {
   "codemirror_mode": {
    "name": "ipython",
    "version": 3
   },
   "file_extension": ".py",
   "mimetype": "text/x-python",
   "name": "python",
   "nbconvert_exporter": "python",
   "pygments_lexer": "ipython3",
   "version": "3.12.4"
  }
 },
 "nbformat": 4,
 "nbformat_minor": 5
}
